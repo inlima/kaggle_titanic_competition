{
 "cells": [
  {
   "cell_type": "markdown",
   "id": "077d9c1e",
   "metadata": {},
   "source": [
    "# Case Titanic"
   ]
  },
  {
   "cell_type": "markdown",
   "id": "14453391",
   "metadata": {},
   "source": [
    "## Importando Bibliotecas"
   ]
  },
  {
   "cell_type": "code",
   "execution_count": 1,
   "id": "856abb7f",
   "metadata": {},
   "outputs": [],
   "source": [
    "import pandas as pd\n",
    "import numpy as np\n",
    "from matplotlib import pylab \n",
    "from sklearn.model_selection import RepeatedKFold\n",
    "from sklearn.model_selection import cross_val_score\n",
    "from sklearn.linear_model import LogisticRegression"
   ]
  },
  {
   "cell_type": "markdown",
   "id": "4b60fc9e",
   "metadata": {},
   "source": [
    "## Importando Arquivos"
   ]
  },
  {
   "cell_type": "code",
   "execution_count": 2,
   "id": "ae186491",
   "metadata": {},
   "outputs": [],
   "source": [
    "train = pd.read_csv('train.csv')\n",
    "test = pd.read_csv('test.csv')"
   ]
  },
  {
   "cell_type": "markdown",
   "id": "9677305e",
   "metadata": {},
   "source": [
    "## Estudando Variáveis"
   ]
  },
  {
   "cell_type": "code",
   "execution_count": 3,
   "id": "78c61e33",
   "metadata": {},
   "outputs": [],
   "source": [
    "def convert_sex(sex):\n",
    "    if sex == 'female':\n",
    "        return 1\n",
    "    else:\n",
    "        return 0"
   ]
  },
  {
   "cell_type": "code",
   "execution_count": 4,
   "id": "360ef9d0",
   "metadata": {},
   "outputs": [],
   "source": [
    "train['Sex_Bin'] = train['Sex'].map(convert_sex)\n",
    "test['Sex_Bin'] = test['Sex'].map(convert_sex)"
   ]
  },
  {
   "cell_type": "code",
   "execution_count": 5,
   "id": "b5871238",
   "metadata": {},
   "outputs": [
    {
     "data": {
      "text/html": [
       "<div>\n",
       "<style scoped>\n",
       "    .dataframe tbody tr th:only-of-type {\n",
       "        vertical-align: middle;\n",
       "    }\n",
       "\n",
       "    .dataframe tbody tr th {\n",
       "        vertical-align: top;\n",
       "    }\n",
       "\n",
       "    .dataframe thead th {\n",
       "        text-align: right;\n",
       "    }\n",
       "</style>\n",
       "<table border=\"1\" class=\"dataframe\">\n",
       "  <thead>\n",
       "    <tr style=\"text-align: right;\">\n",
       "      <th></th>\n",
       "      <th>PassengerId</th>\n",
       "      <th>Pclass</th>\n",
       "      <th>Name</th>\n",
       "      <th>Sex</th>\n",
       "      <th>Age</th>\n",
       "      <th>SibSp</th>\n",
       "      <th>Parch</th>\n",
       "      <th>Ticket</th>\n",
       "      <th>Fare</th>\n",
       "      <th>Cabin</th>\n",
       "      <th>Embarked</th>\n",
       "      <th>Sex_Bin</th>\n",
       "      <th>Miss_Name</th>\n",
       "      <th>Mrs_Name</th>\n",
       "      <th>Master_Name</th>\n",
       "      <th>Col_Name</th>\n",
       "      <th>Major_Name</th>\n",
       "      <th>Mr_Name</th>\n",
       "      <th>S_Embarked</th>\n",
       "      <th>C_Embarked</th>\n",
       "    </tr>\n",
       "  </thead>\n",
       "  <tbody>\n",
       "    <tr>\n",
       "      <th>0</th>\n",
       "      <td>892</td>\n",
       "      <td>3</td>\n",
       "      <td>Kelly, Mr. James</td>\n",
       "      <td>male</td>\n",
       "      <td>34.5</td>\n",
       "      <td>0</td>\n",
       "      <td>0</td>\n",
       "      <td>330911</td>\n",
       "      <td>7.8292</td>\n",
       "      <td>NaN</td>\n",
       "      <td>Q</td>\n",
       "      <td>0</td>\n",
       "      <td>0</td>\n",
       "      <td>0</td>\n",
       "      <td>0</td>\n",
       "      <td>0</td>\n",
       "      <td>0</td>\n",
       "      <td>1</td>\n",
       "      <td>0</td>\n",
       "      <td>0</td>\n",
       "    </tr>\n",
       "    <tr>\n",
       "      <th>1</th>\n",
       "      <td>893</td>\n",
       "      <td>3</td>\n",
       "      <td>Wilkes, Mrs. James (Ellen Needs)</td>\n",
       "      <td>female</td>\n",
       "      <td>47.0</td>\n",
       "      <td>1</td>\n",
       "      <td>0</td>\n",
       "      <td>363272</td>\n",
       "      <td>7.0000</td>\n",
       "      <td>NaN</td>\n",
       "      <td>S</td>\n",
       "      <td>1</td>\n",
       "      <td>0</td>\n",
       "      <td>1</td>\n",
       "      <td>0</td>\n",
       "      <td>0</td>\n",
       "      <td>0</td>\n",
       "      <td>1</td>\n",
       "      <td>1</td>\n",
       "      <td>0</td>\n",
       "    </tr>\n",
       "    <tr>\n",
       "      <th>2</th>\n",
       "      <td>894</td>\n",
       "      <td>2</td>\n",
       "      <td>Myles, Mr. Thomas Francis</td>\n",
       "      <td>male</td>\n",
       "      <td>62.0</td>\n",
       "      <td>0</td>\n",
       "      <td>0</td>\n",
       "      <td>240276</td>\n",
       "      <td>9.6875</td>\n",
       "      <td>NaN</td>\n",
       "      <td>Q</td>\n",
       "      <td>0</td>\n",
       "      <td>0</td>\n",
       "      <td>0</td>\n",
       "      <td>0</td>\n",
       "      <td>0</td>\n",
       "      <td>0</td>\n",
       "      <td>1</td>\n",
       "      <td>0</td>\n",
       "      <td>0</td>\n",
       "    </tr>\n",
       "    <tr>\n",
       "      <th>3</th>\n",
       "      <td>895</td>\n",
       "      <td>3</td>\n",
       "      <td>Wirz, Mr. Albert</td>\n",
       "      <td>male</td>\n",
       "      <td>27.0</td>\n",
       "      <td>0</td>\n",
       "      <td>0</td>\n",
       "      <td>315154</td>\n",
       "      <td>8.6625</td>\n",
       "      <td>NaN</td>\n",
       "      <td>S</td>\n",
       "      <td>0</td>\n",
       "      <td>0</td>\n",
       "      <td>0</td>\n",
       "      <td>0</td>\n",
       "      <td>0</td>\n",
       "      <td>0</td>\n",
       "      <td>1</td>\n",
       "      <td>1</td>\n",
       "      <td>0</td>\n",
       "    </tr>\n",
       "    <tr>\n",
       "      <th>4</th>\n",
       "      <td>896</td>\n",
       "      <td>3</td>\n",
       "      <td>Hirvonen, Mrs. Alexander (Helga E Lindqvist)</td>\n",
       "      <td>female</td>\n",
       "      <td>22.0</td>\n",
       "      <td>1</td>\n",
       "      <td>1</td>\n",
       "      <td>3101298</td>\n",
       "      <td>12.2875</td>\n",
       "      <td>NaN</td>\n",
       "      <td>S</td>\n",
       "      <td>1</td>\n",
       "      <td>0</td>\n",
       "      <td>1</td>\n",
       "      <td>0</td>\n",
       "      <td>0</td>\n",
       "      <td>0</td>\n",
       "      <td>1</td>\n",
       "      <td>1</td>\n",
       "      <td>0</td>\n",
       "    </tr>\n",
       "  </tbody>\n",
       "</table>\n",
       "</div>"
      ],
      "text/plain": [
       "   PassengerId  Pclass                                          Name     Sex  \\\n",
       "0          892       3                              Kelly, Mr. James    male   \n",
       "1          893       3              Wilkes, Mrs. James (Ellen Needs)  female   \n",
       "2          894       2                     Myles, Mr. Thomas Francis    male   \n",
       "3          895       3                              Wirz, Mr. Albert    male   \n",
       "4          896       3  Hirvonen, Mrs. Alexander (Helga E Lindqvist)  female   \n",
       "\n",
       "    Age  SibSp  Parch   Ticket     Fare Cabin Embarked  Sex_Bin  Miss_Name  \\\n",
       "0  34.5      0      0   330911   7.8292   NaN        Q        0          0   \n",
       "1  47.0      1      0   363272   7.0000   NaN        S        1          0   \n",
       "2  62.0      0      0   240276   9.6875   NaN        Q        0          0   \n",
       "3  27.0      0      0   315154   8.6625   NaN        S        0          0   \n",
       "4  22.0      1      1  3101298  12.2875   NaN        S        1          0   \n",
       "\n",
       "   Mrs_Name  Master_Name  Col_Name  Major_Name  Mr_Name  S_Embarked  \\\n",
       "0         0            0         0           0        1           0   \n",
       "1         1            0         0           0        1           1   \n",
       "2         0            0         0           0        1           0   \n",
       "3         0            0         0           0        1           1   \n",
       "4         1            0         0           0        1           1   \n",
       "\n",
       "   C_Embarked  \n",
       "0           0  \n",
       "1           0  \n",
       "2           0  \n",
       "3           0  \n",
       "4           0  "
      ]
     },
     "execution_count": 5,
     "metadata": {},
     "output_type": "execute_result"
    }
   ],
   "source": [
    "train['Miss_Name'] = train['Name'].str.contains(\"Miss\").astype(int)\n",
    "train['Mrs_Name'] = train['Name'].str.contains(\"Mrs\").astype(int)\n",
    "train['Master_Name'] = train['Name'].str.contains(\"Master\").astype(int)\n",
    "train['Col_Name'] = train['Name'].str.contains(\"Col\").astype(int)\n",
    "train['Major_Name'] = train['Name'].str.contains(\"Major\").astype(int)\n",
    "train['Mr_Name'] = train['Name'].str.contains(\"Mr\").astype(int)\n",
    "train['S_Embarked'] = (train['Embarked'] == 'S').astype(int)\n",
    "train['C_Embarked'] = (train['Embarked'] == 'C').astype(int)\n",
    "\n",
    "\n",
    "test['Miss_Name'] = test['Name'].str.contains(\"Miss\").astype(int)\n",
    "test['Mrs_Name'] = test['Name'].str.contains(\"Mrs\").astype(int)\n",
    "test['Master_Name'] = test['Name'].str.contains(\"Master\").astype(int)\n",
    "test['Col_Name'] = test['Name'].str.contains(\"Col\").astype(int)\n",
    "test['Major_Name'] = test['Name'].str.contains(\"Major\").astype(int)\n",
    "test['Mr_Name'] = test['Name'].str.contains(\"Mr\").astype(int)\n",
    "test['S_Embarked'] = (test['Embarked'] == 'S').astype(int)\n",
    "test['C_Embarked'] = (test['Embarked'] == 'C').astype(int)\n",
    "\n",
    "test.head()"
   ]
  },
  {
   "cell_type": "code",
   "execution_count": 6,
   "id": "428784c0",
   "metadata": {},
   "outputs": [],
   "source": [
    "var = ['Sex_Bin', 'Age', 'Pclass', 'SibSp', 'Parch', 'Fare', 'S_Embarked', 'C_Embarked',\n",
    "             'Miss_Name', 'Mrs_Name',\n",
    "             'Master_Name', 'Col_Name', 'Major_Name', 'Mr_Name']"
   ]
  },
  {
   "cell_type": "markdown",
   "id": "ef3d3385",
   "metadata": {},
   "source": [
    "## Analisando os Gráficos"
   ]
  },
  {
   "cell_type": "markdown",
   "id": "735fe0d2",
   "metadata": {},
   "source": [
    "## Implementando o Modelo"
   ]
  },
  {
   "cell_type": "code",
   "execution_count": 7,
   "id": "4de37d72",
   "metadata": {},
   "outputs": [
    {
     "name": "stdout",
     "output_type": "stream",
     "text": [
      "Accuracy: 0.8219\n"
     ]
    }
   ],
   "source": [
    "cv = RepeatedKFold(n_splits=10,n_repeats=10, random_state=1234)\n",
    "\n",
    "X = train[var].fillna(-1)\n",
    "y = train['Survived']\n",
    "\n",
    "model = LogisticRegression()\n",
    "\n",
    "scores = cross_val_score(model,X,y,cv=cv,n_jobs=-1)\n",
    "\n",
    "print('Accuracy: %.4f' % (np.mean(scores)))"
   ]
  },
  {
   "cell_type": "code",
   "execution_count": 8,
   "id": "c730c4b2",
   "metadata": {},
   "outputs": [
    {
     "name": "stderr",
     "output_type": "stream",
     "text": [
      "C:\\Users\\inlim\\anaconda3\\lib\\site-packages\\sklearn\\linear_model\\_logistic.py:763: ConvergenceWarning: lbfgs failed to converge (status=1):\n",
      "STOP: TOTAL NO. of ITERATIONS REACHED LIMIT.\n",
      "\n",
      "Increase the number of iterations (max_iter) or scale the data as shown in:\n",
      "    https://scikit-learn.org/stable/modules/preprocessing.html\n",
      "Please also refer to the documentation for alternative solver options:\n",
      "    https://scikit-learn.org/stable/modules/linear_model.html#logistic-regression\n",
      "  n_iter_i = _check_optimize_result(\n"
     ]
    }
   ],
   "source": [
    "model.fit(X, y)\n",
    "\n",
    "p = model.predict(test[var].fillna(-1))"
   ]
  },
  {
   "cell_type": "markdown",
   "id": "ded37934",
   "metadata": {},
   "source": [
    "## Gerando o arquivo de submissão"
   ]
  },
  {
   "cell_type": "code",
   "execution_count": 9,
   "id": "aafad2d6",
   "metadata": {},
   "outputs": [
    {
     "data": {
      "text/plain": [
       "(418,)"
      ]
     },
     "execution_count": 9,
     "metadata": {},
     "output_type": "execute_result"
    }
   ],
   "source": [
    "sub = pd.Series(p,index=test['PassengerId'], name='Survived')\n",
    "sub.shape"
   ]
  },
  {
   "cell_type": "code",
   "execution_count": 10,
   "id": "4b92cf84",
   "metadata": {},
   "outputs": [],
   "source": [
    "sub.to_csv(\"submission.csv\", header=True)"
   ]
  }
 ],
 "metadata": {
  "kernelspec": {
   "display_name": "Python 3 (ipykernel)",
   "language": "python",
   "name": "python3"
  },
  "language_info": {
   "codemirror_mode": {
    "name": "ipython",
    "version": 3
   },
   "file_extension": ".py",
   "mimetype": "text/x-python",
   "name": "python",
   "nbconvert_exporter": "python",
   "pygments_lexer": "ipython3",
   "version": "3.9.7"
  }
 },
 "nbformat": 4,
 "nbformat_minor": 5
}
